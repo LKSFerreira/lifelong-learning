{
 "cells": [
  {
   "cell_type": "markdown",
   "id": "acf557d0",
   "metadata": {},
   "source": [
    "# Resumo da Carreira: Desenvolvimento Back-End Java na Alura\n",
    "\n",
    "## Objetivo da Carreira\n",
    "\n",
    "O foco é a preparação completa para atuar no mercado de desenvolvimento Back-end com Java, uma das áreas mais sólidas e valorizadas da tecnologia. A formação visa capacitar profissionais para resolver problemas complexos e construir aplicações seguras, performáticas e escaláveis, utilizadas por grandes empresas em setores como bancos, e-commerces e serviços de streaming.\n",
    "\n",
    "## Metodologia de Ensino\n",
    "\n",
    "- **Imersão Prática:** O aprendizado é centrado em desafios e cenários que simulam o dia a dia do mercado de trabalho.\n",
    "- **Construção de Portfólio:** A jornada inclui o desenvolvimento de projetos completos que podem ser utilizados para demonstrar habilidades em processos seletivos.\n",
    "- **Conteúdo Conectado ao Mercado:** Os cursos são cocriados com especialistas atuantes, garantindo que o conteúdo seja relevante e aplicável.\n",
    "- **Comunidade:** Acesso a uma comunidade de estudantes e instrutores para tirar dúvidas, trocar experiências e acelerar o aprendizado.\n",
    "\n",
    "## Estrutura da Carreira\n",
    "\n",
    "A carreira é organizada em uma trilha sequencial para guiar o aprendizado de forma clara e evolutiva.\n",
    "\n",
    "### 1. Base\n",
    "- **Conteúdo:** Reúne os cursos pré-requisitos essenciais para nivelar o conhecimento antes de iniciar os níveis principais.\n",
    "- **Flexibilidade:** Pode ser revisada ou pulada caso já exista domínio sobre os temas abordados.\n",
    "\n",
    "### 2. Níveis\n",
    "- **Conteúdo:** Blocos de cursos organizados em uma sequência lógica, do fundamental ao avançado.\n",
    "- **Progressão:** O ideal é seguir a ordem proposta para construir o conhecimento de forma sólida.\n",
    "\n",
    "### 3. Checkpoint por Nível\n",
    "- **Finalidade:** Avaliar e consolidar o aprendizado ao final de cada nível.\n",
    "- **Composição:**\n",
    "    - **Prova Teórica:** Para validar o conhecimento adquirido nos cursos.\n",
    "    - **Desafio Prático:** Para aplicar os conceitos de forma integrada na resolução de um problema real.\n",
    "\n",
    "## Sistema de Certificação\n",
    "\n",
    "O progresso é reconhecido através de um sistema de certificados cumulativos.\n",
    "\n",
    "- **Certificado de Curso:** Emitido individualmente para cada curso concluído.\n",
    "- **Certificado de Nível da Carreira:** Valida a conclusão de um conjunto de cursos e do respectivo checkpoint de um nível. *(Status: Em breve disponível)*\n",
    "- **Certificado da Carreira:** O certificado mais completo, emitido ao finalizar todos os níveis e atividades da trilha de formação."
   ]
  }
 ],
 "metadata": {
  "kernelspec": {
   "display_name": "Python 3",
   "language": "python",
   "name": "python3"
  },
  "language_info": {
   "name": "python",
   "version": "3.12.4"
  }
 },
 "nbformat": 4,
 "nbformat_minor": 5
}
