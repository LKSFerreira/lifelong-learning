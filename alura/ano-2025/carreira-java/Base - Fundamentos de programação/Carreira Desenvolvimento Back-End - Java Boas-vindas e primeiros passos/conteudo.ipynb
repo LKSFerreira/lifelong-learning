{
 "cells": [
  {
   "cell_type": "code",
   "execution_count": null,
   "id": "f1aa12f8",
   "metadata": {},
   "outputs": [],
   "source": [
    "# Conhecendo a carreira"
   ]
  }
 ],
 "metadata": {
  "language_info": {
   "name": "python"
  }
 },
 "nbformat": 4,
 "nbformat_minor": 5
}
