{
 "cells": [
  {
   "cell_type": "code",
   "execution_count": null,
   "id": "dc59c70c",
   "metadata": {},
   "outputs": [],
   "source": [
    "import pandas as pd\n",
    "url = 'https://raw.githubusercontent.com/alura-cursos/Pandas/main/dados_sus.csv'\n",
    "dados_sus = pd.read_csv(url, encoding='ISO-8859-1', sep=';', skiprows=3, skipfooter=9, engine='python')\n",
    "\n",
    "\n"
   ]
  }
 ],
 "metadata": {
  "kernelspec": {
   "display_name": "Python 3",
   "language": "python",
   "name": "python3"
  },
  "language_info": {
   "codemirror_mode": {
    "name": "ipython",
    "version": 3
   },
   "file_extension": ".py",
   "mimetype": "text/x-python",
   "name": "python",
   "nbconvert_exporter": "python",
   "pygments_lexer": "ipython3",
   "version": "3.12.4"
  }
 },
 "nbformat": 4,
 "nbformat_minor": 5
}
