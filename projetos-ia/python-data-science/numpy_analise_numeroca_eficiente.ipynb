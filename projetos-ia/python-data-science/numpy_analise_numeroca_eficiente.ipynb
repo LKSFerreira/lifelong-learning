{
 "cells": [
  {
   "cell_type": "code",
   "execution_count": null,
   "metadata": {},
   "outputs": [],
   "source": [
    "# Pegando o dataset do github manualmente\n",
    "import numpy as np\n",
    "\n",
    "url = \"https://raw.githubusercontent.com/alura-cursos/numpy/dados/apples_ts.csv\"\n",
    "\n",
    "# Estamos carregando o arquivo de formato texto, com delimitador de vírgula e pulando a primeira coluna\n",
    "dataframe = np.loadtxt(url, delimiter=\",\", usecols=np.arange(1, 88, 1))\n",
    "dataframe"
   ]
  },
  {
   "cell_type": "code",
   "execution_count": null,
   "metadata": {},
   "outputs": [],
   "source": [
    "# Verifica a quantidade de dimensões do dataframe\n",
    "dataframe.ndim"
   ]
  },
  {
   "cell_type": "code",
   "execution_count": null,
   "metadata": {},
   "outputs": [],
   "source": [
    "# Verifica a quantidade de elementos do dataframe\n",
    "dataframe.size"
   ]
  },
  {
   "cell_type": "code",
   "execution_count": null,
   "metadata": {},
   "outputs": [],
   "source": [
    "# Seria o formato do dataframe, ou seja, a quantidade de linhas e colunas\n",
    "dataframe.shape"
   ]
  },
  {
   "cell_type": "code",
   "execution_count": null,
   "metadata": {},
   "outputs": [],
   "source": [
    "# Realiza uma transposição do dataframe, nesse caso a primeira coluna é representa as datas e as demais colunas os valores vendidos de maçãs de cada cidade\n",
    "dataframe.T"
   ]
  },
  {
   "cell_type": "code",
   "execution_count": 9,
   "metadata": {},
   "outputs": [],
   "source": [
    "# Podemos salvar o dados transporto em uma variável\n",
    "dados_transpostos = dataframe.T"
   ]
  },
  {
   "cell_type": "code",
   "execution_count": null,
   "metadata": {},
   "outputs": [],
   "source": []
  }
 ],
 "metadata": {
  "kernelspec": {
   "display_name": "Python 3",
   "language": "python",
   "name": "python3"
  },
  "language_info": {
   "codemirror_mode": {
    "name": "ipython",
    "version": 3
   },
   "file_extension": ".py",
   "mimetype": "text/x-python",
   "name": "python",
   "nbconvert_exporter": "python",
   "pygments_lexer": "ipython3",
   "version": "3.12.4"
  }
 },
 "nbformat": 4,
 "nbformat_minor": 2
}
